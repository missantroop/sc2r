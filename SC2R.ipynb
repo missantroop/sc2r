{
 "cells": [
  {
   "cell_type": "markdown",
   "id": "discrete-friendship",
   "metadata": {},
   "source": [
    "<b>Imports</b>"
   ]
  },
  {
   "cell_type": "code",
   "execution_count": 1,
   "id": "earned-overall",
   "metadata": {},
   "outputs": [],
   "source": [
    "from zephyrus_sc2_parser import parse_replay\n",
    "\n",
    "# fancy packages\n",
    "import pandas as p\n",
    "import numpy as n\n",
    "import seaborn as sns\n",
    "import matplotlib.pyplot as plt\n",
    "\n",
    "# necro packages\n",
    "from IPython.core.display import HTML\n",
    "import os\n",
    "import traceback\n",
    "import math\n",
    "from random import randint\n",
    "import time"
   ]
  },
  {
   "cell_type": "markdown",
   "id": "experimental-ozone",
   "metadata": {},
   "source": [
    "<b>Variables</b>"
   ]
  },
  {
   "cell_type": "code",
   "execution_count": 2,
   "id": "annual-exhibition",
   "metadata": {},
   "outputs": [],
   "source": [
    "# list of case sensitive user ids\n",
    "# TODO: this would more reliable with the numerical player id isntaed of name\n",
    "me_list_file='me_list.txt'\n",
    "# list of paths where to look for replays\n",
    "replay_dirs_file='replay_dirs_list.txt'\n",
    "\n",
    "# column filters\n",
    "global top_fields, unit_fields\n",
    "top_fields=['gameloop', 'resource_collection_rate', 'unspent_resources','resource_collection_rate_all',\n",
    "            'unit', 'building', 'upgrade', 'workers_active', 'workers_produced', 'workers_lost', 'supply',\n",
    "            'supply_cap', 'supply_block', 'spm', 'army_value', 'resources_lost', 'resources_collected',\n",
    "            'total_army_value', 'total_resources_lost', 'total_resources_collected', 'race', 'workers_killed']\n",
    "unit_fields=['live', 'died', 'in_progress']\n",
    "\n",
    "global me_list\n",
    "with open(me_list_file) as f:\n",
    "    me_list = [x.strip() for x in f.readlines()] \n",
    "\n",
    "with open(replay_dirs_file) as f:\n",
    "    replay_dirs = [x.strip() for x in f.readlines()] "
   ]
  },
  {
   "cell_type": "markdown",
   "id": "destroyed-royalty",
   "metadata": {},
   "source": [
    "<b>Main functions</b>"
   ]
  },
  {
   "cell_type": "code",
   "execution_count": 3,
   "id": "driving-nicaragua",
   "metadata": {
    "scrolled": true
   },
   "outputs": [],
   "source": [
    "def timelines(replay):\n",
    "    tls=[]\n",
    "    hasme=False\n",
    "    hasainame=0\n",
    "    \n",
    "    # make sure its 1v1\n",
    "    if len(replay.players)!=2:\n",
    "        return([])\n",
    "    \n",
    "    for pl in replay.players.values():\n",
    "        pl.race=pl.race[0]\n",
    "        \n",
    "        pl.me=(pl.name in me_list)\n",
    "        if pl.me:\n",
    "            hasme=True\n",
    "\n",
    "        hasainame+=('A.I.' in pl.name)\n",
    "    \n",
    "    # when game was played\n",
    "    played_at=replay.metadata['played_at']\n",
    "    \n",
    "    # unique identifier\n",
    "    map_name=replay.metadata['map']\n",
    "    game_id='_'.join([\n",
    "        map_name.replace(' ','_'),\n",
    "        str(int((played_at.timestamp())))\n",
    "    ])\n",
    "    \n",
    "    # game length in minutes\n",
    "    gamelength=replay.metadata['game_length']/60#/22.4/60\n",
    "    \n",
    "    # kinda stupid but idk of any other way. seems to work\n",
    "    custom=all(x is None for x in replay.summary['mmr'].values())\n",
    "    vsai=custom and (hasainame>0)\n",
    "    \n",
    "    if replay.metadata['winner'] in replay.players:\n",
    "        winner=replay.metadata['winner']\n",
    "    else:\n",
    "        winner=-1\n",
    "    \n",
    "    for i in replay.players.keys():\n",
    "        keys=list(replay.players.keys())\n",
    "        keys.remove(i)\n",
    "        \n",
    "        tl0=list(map(lambda x:x[i],replay.timeline))\n",
    "\n",
    "        for j,x in enumerate(tl0):\n",
    "            tl0[j]={y: x[y] for y in top_fields}\n",
    "            \n",
    "            for u in x['unit']:\n",
    "                x['unit'][u]={y: x['unit'][u][y] for y in unit_fields}\n",
    "                x['unit'][u]['built']=x['unit'][u]['live']+x['unit'][u]['died']\n",
    "                \n",
    "            for b in x['building']:\n",
    "                x['building'][b]={y: x['building'][b][y] for y in unit_fields}\n",
    "                x['building'][b]['built']=x['building'][b]['live']+x['building'][b]['died']\n",
    "                # TODO: throwaway unnecessary buildings\n",
    "            \n",
    "            for u in x['upgrade']:\n",
    "                tl0[j]['_'.join(['upgrade',u])]=1\n",
    "                # TODO: this could be a little prettier, e.g. make each tiered set of upgrades\n",
    "                # into single columns with values 1-3\n",
    "                \n",
    "            del tl0[j]['upgrade']\n",
    "        \n",
    "        tl=p.json_normalize(tl0,sep='_')  \n",
    "\n",
    "        tl['player']=replay.players[i].name\n",
    "        \n",
    "        # NB can have blank MMR in general\n",
    "        tl['mmr']=replay.summary['mmr'][i]\n",
    "        \n",
    "        race=replay.players[i].race\n",
    "        opprace=replay.players[keys.pop()].race\n",
    "        tl['race']=race\n",
    "        tl['opprace']=opprace\n",
    "        tl['matchup']='v'.join([race,opprace])\n",
    "        \n",
    "        tl['me']=replay.players[i].me\n",
    "        \n",
    "        tl['hasme']=hasme\n",
    "        \n",
    "        if winner<0:\n",
    "            wl='?'\n",
    "        elif i==winner:\n",
    "            wl='W'\n",
    "        else:\n",
    "            wl='L'\n",
    "        tl['wl']=wl\n",
    "        \n",
    "        tl['played_at']=played_at\n",
    "        tl['map']=map_name\n",
    "        tl['game_id']=game_id\n",
    "        tl['custom']=custom\n",
    "        tl['vsai']=vsai\n",
    "        tl['gamelength']=gamelength\n",
    "\n",
    "        # optional\n",
    "        # TODO: check if observer\n",
    "        # TODO: version of sc2\n",
    "        # TODO: ranked or not (maybe check MMR? necessary?)\n",
    "        \n",
    "        tls+=[tl]\n",
    "\n",
    "    return(tls)\n",
    "\n",
    "# TODO: maybe it could take all replays after a certain date but that's pretty advanced\n",
    "def go_thru_dir(dirpath):\n",
    "    dfs=[]\n",
    "    \n",
    "    # should be in that folder only, not subfolders\n",
    "    for filename in os.listdir(dirpath):\n",
    "        if filename.lower().endswith('.sc2replay'):\n",
    "            file=os.path.join(dirpath,filename)\n",
    "            \n",
    "            # otherwise it spits out a lot of errors and stuff\n",
    "            try:\n",
    "                # TODO: check local=False behavior\n",
    "                replay=parse_replay(file)\n",
    "            except:\n",
    "                continue\n",
    "                \n",
    "            dfs+=timelines(replay)\n",
    "            \n",
    "    return(dfs)"
   ]
  },
  {
   "cell_type": "markdown",
   "id": "hollywood-township",
   "metadata": {},
   "source": [
    "<b>Main program</b>"
   ]
  },
  {
   "cell_type": "code",
   "execution_count": 4,
   "id": "beginning-handling",
   "metadata": {
    "scrolled": true
   },
   "outputs": [
    {
     "name": "stdout",
     "output_type": "stream",
     "text": [
      "998 replays processed\n",
      "Dataset formed with 102170 rows and 690 columns\n",
      "Took 3 minutes and 41 seconds\n"
     ]
    }
   ],
   "source": [
    "t0 = time.time()\n",
    "\n",
    "dfs=sum(map(go_thru_dir,replay_dirs),[])\n",
    "print('{} replays processed'.format(len(dfs)))\n",
    "\n",
    "df=p.concat(dfs,sort=False).reset_index()\n",
    "print('Dataset formed with {} rows and {} columns'.format(len(df),len(df.columns)))\n",
    "\n",
    "diffsec=time.time()-t0\n",
    "tsec=int(diffsec%60)\n",
    "tmin=int((diffsec-tsec)/60)\n",
    "print('Took {} minutes and {} seconds'.format(tmin,tsec))"
   ]
  },
  {
   "cell_type": "markdown",
   "id": "desperate-straight",
   "metadata": {},
   "source": [
    "<b>Check basic stuff</b>"
   ]
  },
  {
   "cell_type": "code",
   "execution_count": 5,
   "id": "least-spectrum",
   "metadata": {},
   "outputs": [
    {
     "name": "stdout",
     "output_type": "stream",
     "text": [
      "vsai\n",
      "False    210\n",
      "True     288\n",
      "dtype: int64\n",
      "matchup\n",
      "PvP    67\n",
      "PvT    75\n",
      "PvZ    55\n",
      "TvP     6\n",
      "TvT     3\n",
      "TvZ     2\n",
      "ZvZ     2\n",
      "dtype: int64\n",
      "['A.I. 1 (Elite)' 'A.I. 1 (Very Easy)' 'A.I. 2 (Elite)' 'neptun']\n"
     ]
    }
   ],
   "source": [
    "#overview stats\n",
    "df_games=df[(df.groupby(['game_id'])['gameloop'].transform(max)==df['gameloop']) & (df.me)]\n",
    "print(df_games.groupby(['vsai']).size())\n",
    "print(df_games[~df_games['vsai']].groupby(['matchup']).size())\n",
    "\n",
    "# sanity check. note taht below potentially includes other players than you since you may have observed games vs AI \n",
    "print(df[(df['vsai']) & (~df['me'])]['player'].unique())"
   ]
  },
  {
   "cell_type": "markdown",
   "id": "duplicate-shopping",
   "metadata": {},
   "source": [
    "<b>Example data science</b>"
   ]
  },
  {
   "cell_type": "code",
   "execution_count": 6,
   "id": "median-yugoslavia",
   "metadata": {},
   "outputs": [],
   "source": [
    "# basic slices\n",
    "df_slice=df[\n",
    "    (df['me']) & (~df['vsai']) & (df['gamelength']<60)\n",
    "][[\n",
    "    'game_id','gameloop','matchup','played_at','wl',\n",
    "    'unit_Stalker_live','unit_Stalker_died',\n",
    "    'unit_Disruptor_live','unit_Disruptor_died'\n",
    "]].fillna(0)\n",
    "\n",
    "# new fields\n",
    "df_slice['unit_Stalker_built']=df_slice['unit_Stalker_live']+df_slice['unit_Stalker_died']\n",
    "df_slice['unit_Disruptor_built']=df_slice['unit_Disruptor_live']+df_slice['unit_Disruptor_died']\n",
    "\n",
    "# rescales time to [0,1]. idea was to use this for continuous alpha but seaborn does not support it :(\n",
    "df_slice['unix']=df_slice['played_at'].apply(lambda x:float(x.timestamp()))\n",
    "umax=df_slice['unix'].max()\n",
    "umin=df_slice['unix'].min()\n",
    "df_slice['unix_scale']=(df_slice['unix']-umin)/(umax-umin)\n",
    "\n",
    "# minutes instead of game ticks\n",
    "df_slice['min']=df_slice['gameloop']/22.4/60\n",
    "df_slice['min2']=df_slice['min'].apply(math.floor)"
   ]
  },
  {
   "cell_type": "code",
   "execution_count": 7,
   "id": "complimentary-familiar",
   "metadata": {},
   "outputs": [],
   "source": [
    "# create aggregate datasets\n",
    "\n",
    "# only one row per min2 in df_min2\n",
    "min2_idx=df_slice.groupby(['game_id','min2'])['gameloop'].transform(max)==df_slice['gameloop']\n",
    "# should cut out the outliers from here too\n",
    "df_slice_min2=df_slice[(min2_idx)]\n",
    "\n",
    "# only last row per game in df_slice_last\n",
    "last_idx=df_slice.groupby(['game_id'])['gameloop'].transform(max)==df_slice['gameloop']\n",
    "df_slice_last=df_slice[(last_idx)]"
   ]
  },
  {
   "cell_type": "code",
   "execution_count": 8,
   "id": "magnetic-flight",
   "metadata": {},
   "outputs": [],
   "source": [
    "# melt for multi-unit plot\n",
    "# could be prettier i guess\n",
    "df_slice_min22=df_slice_min2[['game_id','min','min2','matchup','unix_scale','unit_Stalker_built','unit_Disruptor_built']].melt(\n",
    "    id_vars=['game_id','min','min2','matchup','unix_scale'],\n",
    "    var_name='unit',\n",
    "    value_name='units_built'\n",
    ")"
   ]
  },
  {
   "cell_type": "markdown",
   "id": "noted-holly",
   "metadata": {},
   "source": [
    "<b>Plots</b>"
   ]
  },
  {
   "cell_type": "code",
   "execution_count": 9,
   "id": "eleven-provision",
   "metadata": {},
   "outputs": [
    {
     "data": {
      "text/plain": [
       "66"
      ]
     },
     "execution_count": 9,
     "metadata": {},
     "output_type": "execute_result"
    }
   ],
   "source": [
    "len(df_slice_last[df_slice_last['matchup']=='PvP'])"
   ]
  },
  {
   "cell_type": "code",
   "execution_count": 10,
   "id": "senior-english",
   "metadata": {},
   "outputs": [
    {
     "data": {
      "image/png": "[encoded data removed]",
      "text/plain": [
       "<Figure size 432x288 with 1 Axes>"
      ]
     },
     "metadata": {
      "needs_background": "light"
     },
     "output_type": "display_data"
    },
    {
     "data": {
      "image/png": "[encoded data removed]",
      "text/plain": [
       "<Figure size 432x288 with 1 Axes>"
      ]
     },
     "metadata": {
      "needs_background": "light"
     },
     "output_type": "display_data"
    },
    {
     "data": {
      "image/png": "[encoded data removed]",
      "text/plain": [
       "<Figure size 432x288 with 1 Axes>"
      ]
     },
     "metadata": {
      "needs_background": "light"
     },
     "output_type": "display_data"
    }
   ],
   "source": [
    "def histo_per_matchup(matchup):\n",
    "    data=df_slice_last[df_slice_last['matchup']==matchup].sort_values('wl',ascending=False)\n",
    "    gl_histo=sns.histplot(\n",
    "        data=data,\n",
    "        x='min2',\n",
    "        hue='wl',\n",
    "        binwidth=2.5,\n",
    "        binrange=(0,data['min2'].max()),\n",
    "        multiple='stack'\n",
    "    )\n",
    "    gl_histo.set(\n",
    "        xlabel='Game length (min)',\n",
    "        title=matchup\n",
    "    )\n",
    "    plt.show()\n",
    "    \n",
    "for mu in ['PvP','PvZ','PvT']:\n",
    "    histo_per_matchup(mu)"
   ]
  },
  {
   "cell_type": "code",
   "execution_count": 11,
   "id": "optical-horse",
   "metadata": {
    "scrolled": false
   },
   "outputs": [
    {
     "data": {
      "image/png": "[encoded data removed]",
      "text/plain": [
       "<Figure size 482.5x360 with 1 Axes>"
      ]
     },
     "metadata": {
      "needs_background": "light"
     },
     "output_type": "display_data"
    },
    {
     "data": {
      "image/png": "[encoded data removed]",
      "text/plain": [
       "<Figure size 482.5x360 with 1 Axes>"
      ]
     },
     "metadata": {
      "needs_background": "light"
     },
     "output_type": "display_data"
    },
    {
     "data": {
      "image/png": "[encoded data removed]",
      "text/plain": [
       "<Figure size 482.5x360 with 1 Axes>"
      ]
     },
     "metadata": {
      "needs_background": "light"
     },
     "output_type": "display_data"
    }
   ],
   "source": [
    "def units_per_matchup(matchup):\n",
    "    rp_stalker=sns.relplot(\n",
    "        data=df_slice_min22[\n",
    "            (df_slice_min22['unit']=='unit_Stalker_built') & (df_slice_min22['matchup']==matchup)\n",
    "        ],\n",
    "        x='min2',\n",
    "        y='units_built',\n",
    "        alpha=0.5,\n",
    "        hue='unit',\n",
    "        kind='line'\n",
    "    )\n",
    "    rp_stalker.set(\n",
    "        title=matchup+' stalkers',\n",
    "        xlabel='Game time (min)',\n",
    "        ylabel='Unit count'\n",
    "    )\n",
    "\n",
    "    plt.show()\n",
    "\n",
    "for mu in ['PvP','PvZ','PvT']:\n",
    "    units_per_matchup(mu)"
   ]
  },
  {
   "cell_type": "markdown",
   "id": "subjective-beijing",
   "metadata": {},
   "source": [
    "<b>Debug stuff</b>"
   ]
  },
  {
   "cell_type": "code",
   "execution_count": 12,
   "id": "informal-eagle",
   "metadata": {},
   "outputs": [],
   "source": [
    "#debug\n",
    "\n",
    "path = 'Deathaura LE (10).SC2Replay'\n",
    "\n",
    "replay2 = parse_replay(path)"
   ]
  },
  {
   "cell_type": "code",
   "execution_count": null,
   "id": "removable-halifax",
   "metadata": {},
   "outputs": [],
   "source": [
    "replay2.timeline[-1][1]"
   ]
  }
 ],
 "metadata": {
  "kernelspec": {
   "display_name": "Python 3",
   "language": "python",
   "name": "python3"
  },
  "language_info": {
   "codemirror_mode": {
    "name": "ipython",
    "version": 3
   },
   "file_extension": ".py",
   "mimetype": "text/x-python",
   "name": "python",
   "nbconvert_exporter": "python",
   "pygments_lexer": "ipython3",
   "version": "3.9.1"
  }
 },
 "nbformat": 4,
 "nbformat_minor": 5
}
